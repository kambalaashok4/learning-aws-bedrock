{
 "cells": [
  {
   "cell_type": "code",
   "execution_count": 1,
   "metadata": {},
   "outputs": [
    {
     "name": "stdout",
     "output_type": "stream",
     "text": [
      "Python 3.11.5\n"
     ]
    }
   ],
   "source": [
    "! python --version"
   ]
  },
  {
   "attachments": {},
   "cell_type": "markdown",
   "metadata": {},
   "source": [
    "# Environment Setup"
   ]
  },
  {
   "attachments": {},
   "cell_type": "markdown",
   "metadata": {},
   "source": [
    "## Upgrade pip"
   ]
  },
  {
   "cell_type": "code",
   "execution_count": 2,
   "metadata": {},
   "outputs": [
    {
     "name": "stdout",
     "output_type": "stream",
     "text": [
      "Requirement already satisfied: pip in /Users/jayyanar/anaconda3/lib/python3.11/site-packages (24.0)\n"
     ]
    }
   ],
   "source": [
    "! pip install --upgrade pip"
   ]
  },
  {
   "attachments": {},
   "cell_type": "markdown",
   "metadata": {},
   "source": [
    "# Install latest boto3,awscli, boto3-core"
   ]
  },
  {
   "cell_type": "code",
   "execution_count": 3,
   "metadata": {},
   "outputs": [
    {
     "name": "stdout",
     "output_type": "stream",
     "text": [
      "Collecting boto3>=1.33.6\n",
      "  Downloading boto3-1.34.57-py3-none-any.whl.metadata (6.6 kB)\n",
      "Collecting awscli>=1.31.6\n",
      "  Downloading awscli-1.32.57-py3-none-any.whl.metadata (11 kB)\n",
      "Collecting botocore>=1.33.6\n",
      "  Downloading botocore-1.34.57-py3-none-any.whl.metadata (5.7 kB)\n",
      "Collecting jmespath<2.0.0,>=0.7.1 (from boto3>=1.33.6)\n",
      "  Downloading jmespath-1.0.1-py3-none-any.whl.metadata (7.6 kB)\n",
      "Collecting s3transfer<0.11.0,>=0.10.0 (from boto3>=1.33.6)\n",
      "  Using cached s3transfer-0.10.0-py3-none-any.whl.metadata (1.7 kB)\n",
      "Collecting docutils<0.17,>=0.10 (from awscli>=1.31.6)\n",
      "  Downloading docutils-0.16-py2.py3-none-any.whl.metadata (2.7 kB)\n",
      "Collecting PyYAML<6.1,>=3.10 (from awscli>=1.31.6)\n",
      "  Using cached PyYAML-6.0.1-cp311-cp311-macosx_11_0_arm64.whl.metadata (2.1 kB)\n",
      "Collecting colorama<0.4.5,>=0.2.5 (from awscli>=1.31.6)\n",
      "  Downloading colorama-0.4.4-py2.py3-none-any.whl.metadata (14 kB)\n",
      "Collecting rsa<4.8,>=3.1.2 (from awscli>=1.31.6)\n",
      "  Downloading rsa-4.7.2-py3-none-any.whl.metadata (3.6 kB)\n",
      "Collecting python-dateutil<3.0.0,>=2.1 (from botocore>=1.33.6)\n",
      "  Downloading python_dateutil-2.9.0.post0-py2.py3-none-any.whl.metadata (8.4 kB)\n",
      "Collecting urllib3<2.1,>=1.25.4 (from botocore>=1.33.6)\n",
      "  Using cached urllib3-2.0.7-py3-none-any.whl.metadata (6.6 kB)\n",
      "Collecting six>=1.5 (from python-dateutil<3.0.0,>=2.1->botocore>=1.33.6)\n",
      "  Downloading six-1.16.0-py2.py3-none-any.whl.metadata (1.8 kB)\n",
      "Collecting pyasn1>=0.1.3 (from rsa<4.8,>=3.1.2->awscli>=1.31.6)\n",
      "  Using cached pyasn1-0.5.1-py2.py3-none-any.whl.metadata (8.6 kB)\n",
      "Downloading boto3-1.34.57-py3-none-any.whl (139 kB)\n",
      "\u001b[2K   \u001b[90m━━━━━━━━━━━━━━━━━━━━━━━━━━━━━━━━━━━━━━━\u001b[0m \u001b[32m139.3/139.3 kB\u001b[0m \u001b[31m542.3 kB/s\u001b[0m eta \u001b[36m0:00:00\u001b[0ma \u001b[36m0:00:01\u001b[0m\n",
      "\u001b[?25hDownloading awscli-1.32.57-py3-none-any.whl (4.4 MB)\n",
      "\u001b[2K   \u001b[90m━━━━━━━━━━━━━━━━━━━━━━━━━━━━━━━━━━━━━━━━\u001b[0m \u001b[32m4.4/4.4 MB\u001b[0m \u001b[31m1.2 MB/s\u001b[0m eta \u001b[36m0:00:00\u001b[0m00:01\u001b[0m00:01\u001b[0m0m\n",
      "\u001b[?25hDownloading botocore-1.34.57-py3-none-any.whl (12.0 MB)\n",
      "\u001b[2K   \u001b[90m━━━━━━━━━━━━━━━━━━━━━━━━━━━━━━━━━━━━━━━━\u001b[0m \u001b[32m12.0/12.0 MB\u001b[0m \u001b[31m2.8 MB/s\u001b[0m eta \u001b[36m0:00:00\u001b[0m00:01\u001b[0m00:01\u001b[0m\n",
      "\u001b[?25hUsing cached colorama-0.4.4-py2.py3-none-any.whl (16 kB)\n",
      "Using cached docutils-0.16-py2.py3-none-any.whl (548 kB)\n",
      "Using cached jmespath-1.0.1-py3-none-any.whl (20 kB)\n",
      "Downloading python_dateutil-2.9.0.post0-py2.py3-none-any.whl (229 kB)\n",
      "\u001b[2K   \u001b[90m━━━━━━━━━━━━━━━━━━━━━━━━━━━━━━━━━━━━━━━━\u001b[0m \u001b[32m229.9/229.9 kB\u001b[0m \u001b[31m2.0 MB/s\u001b[0m eta \u001b[36m0:00:00\u001b[0m00:01\u001b[0m00:01\u001b[0m\n",
      "\u001b[?25hUsing cached PyYAML-6.0.1-cp311-cp311-macosx_11_0_arm64.whl (167 kB)\n",
      "Using cached rsa-4.7.2-py3-none-any.whl (34 kB)\n",
      "Using cached s3transfer-0.10.0-py3-none-any.whl (82 kB)\n",
      "Using cached urllib3-2.0.7-py3-none-any.whl (124 kB)\n",
      "Using cached pyasn1-0.5.1-py2.py3-none-any.whl (84 kB)\n",
      "Using cached six-1.16.0-py2.py3-none-any.whl (11 kB)\n",
      "Installing collected packages: urllib3, six, PyYAML, pyasn1, jmespath, docutils, colorama, rsa, python-dateutil, botocore, s3transfer, boto3, awscli\n",
      "  Attempting uninstall: urllib3\n",
      "    Found existing installation: urllib3 1.26.18\n",
      "    Uninstalling urllib3-1.26.18:\n",
      "      Successfully uninstalled urllib3-1.26.18\n",
      "  Attempting uninstall: six\n",
      "    Found existing installation: six 1.16.0\n",
      "    Uninstalling six-1.16.0:\n",
      "      Successfully uninstalled six-1.16.0\n",
      "  Attempting uninstall: PyYAML\n",
      "    Found existing installation: PyYAML 6.0.1\n",
      "    Uninstalling PyYAML-6.0.1:\n",
      "      Successfully uninstalled PyYAML-6.0.1\n",
      "  Attempting uninstall: pyasn1\n",
      "    Found existing installation: pyasn1 0.4.8\n",
      "    Uninstalling pyasn1-0.4.8:\n",
      "      Successfully uninstalled pyasn1-0.4.8\n",
      "  Attempting uninstall: jmespath\n",
      "    Found existing installation: jmespath 0.10.0\n",
      "    Uninstalling jmespath-0.10.0:\n",
      "      Successfully uninstalled jmespath-0.10.0\n",
      "  Attempting uninstall: docutils\n",
      "    Found existing installation: docutils 0.16\n",
      "    Uninstalling docutils-0.16:\n",
      "      Successfully uninstalled docutils-0.16\n",
      "  Attempting uninstall: colorama\n",
      "    Found existing installation: colorama 0.4.4\n",
      "    Uninstalling colorama-0.4.4:\n",
      "      Successfully uninstalled colorama-0.4.4\n",
      "  Attempting uninstall: rsa\n",
      "    Found existing installation: rsa 4.7.2\n",
      "    Uninstalling rsa-4.7.2:\n",
      "      Successfully uninstalled rsa-4.7.2\n",
      "  Attempting uninstall: python-dateutil\n",
      "    Found existing installation: python-dateutil 2.8.2\n",
      "    Uninstalling python-dateutil-2.8.2:\n",
      "      Successfully uninstalled python-dateutil-2.8.2\n",
      "  Attempting uninstall: botocore\n",
      "    Found existing installation: botocore 1.34.18\n",
      "    Uninstalling botocore-1.34.18:\n",
      "      Successfully uninstalled botocore-1.34.18\n",
      "  Attempting uninstall: s3transfer\n",
      "    Found existing installation: s3transfer 0.10.0\n",
      "    Uninstalling s3transfer-0.10.0:\n",
      "      Successfully uninstalled s3transfer-0.10.0\n",
      "  Attempting uninstall: boto3\n",
      "    Found existing installation: boto3 1.34.18\n",
      "    Uninstalling boto3-1.34.18:\n",
      "      Successfully uninstalled boto3-1.34.18\n",
      "  Attempting uninstall: awscli\n",
      "    Found existing installation: awscli 1.32.18\n",
      "    Uninstalling awscli-1.32.18:\n",
      "      Successfully uninstalled awscli-1.32.18\n",
      "\u001b[31mERROR: pip's dependency resolver does not currently take into account all the packages that are installed. This behaviour is the source of the following dependency conflicts.\n",
      "conda-repo-cli 1.0.75 requires requests_mock, which is not installed.\n",
      "spyder 5.4.3 requires pyqt5<5.16, which is not installed.\n",
      "spyder 5.4.3 requires pyqtwebengine<5.16, which is not installed.\n",
      "requests 2.28.2 requires urllib3<1.27,>=1.21.1, but you have urllib3 2.0.7 which is incompatible.\n",
      "conda-repo-cli 1.0.75 requires clyent==1.2.1, but you have clyent 1.2.2 which is incompatible.\n",
      "conda-repo-cli 1.0.75 requires python-dateutil==2.8.2, but you have python-dateutil 2.9.0.post0 which is incompatible.\n",
      "conda-repo-cli 1.0.75 requires requests==2.31.0, but you have requests 2.28.2 which is incompatible.\n",
      "pyasn1-modules 0.2.8 requires pyasn1<0.5.0,>=0.4.6, but you have pyasn1 0.5.1 which is incompatible.\n",
      "conda 23.7.4 requires ruamel-yaml<0.18,>=0.11.14, but you have ruamel-yaml 0.18.5 which is incompatible.\n",
      "aliyun-python-sdk-core 2.14.0 requires jmespath<1.0.0,>=0.9.3, but you have jmespath 1.0.1 which is incompatible.\n",
      "aws-sam-cli 1.105.0 requires requests~=2.31.0, but you have requests 2.28.2 which is incompatible.\n",
      "aws-sam-cli 1.105.0 requires rich~=13.7.0, but you have rich 13.4.2 which is incompatible.\n",
      "sam 3.1.11 requires pandas~=1.3, but you have pandas 2.1.4 which is incompatible.\n",
      "sam 3.1.11 requires scikit-learn<1.3,~=1.1, but you have scikit-learn 1.4.1.post1 which is incompatible.\n",
      "aiobotocore 2.5.0 requires botocore<1.29.77,>=1.29.76, but you have botocore 1.34.57 which is incompatible.\u001b[0m\u001b[31m\n",
      "\u001b[0mSuccessfully installed PyYAML-6.0.1 awscli-1.32.57 boto3-1.34.57 botocore-1.34.57 colorama-0.4.4 docutils-0.16 jmespath-1.0.1 pyasn1-0.5.1 python-dateutil-2.9.0.post0 rsa-4.7.2 s3transfer-0.10.0 six-1.16.0 urllib3-2.0.7\n"
     ]
    }
   ],
   "source": [
    "! pip install --no-build-isolation --force-reinstall \\\n",
    "    \"boto3>=1.33.6\" \\\n",
    "    \"awscli>=1.31.6\" \\\n",
    "    \"botocore>=1.33.6\""
   ]
  },
  {
   "attachments": {},
   "cell_type": "markdown",
   "metadata": {},
   "source": [
    "# Load the Library"
   ]
  },
  {
   "cell_type": "code",
   "execution_count": 9,
   "metadata": {},
   "outputs": [],
   "source": [
    "import json\n",
    "import os\n",
    "import sys\n",
    "\n",
    "import boto3\n",
    "import botocore\n",
    "\n",
    "bedrock = boto3.client(service_name=\"bedrock\", region_name='us-west-2')\n",
    "bedrock_runtime = boto3.client(service_name=\"bedrock-runtime\", region_name='us-west-2')"
   ]
  },
  {
   "attachments": {},
   "cell_type": "markdown",
   "metadata": {},
   "source": [
    "# Mistral 7B Model\n",
    "## Reference - https://blog.dataopslabs.com/my-understanding-of-mistral-ai?showSharer=true\n",
    "\n",
    "\n",
    "### Mistral 7B is a 7-billion-parameter language model designed for exceptional performance and efficiency in Natural Language Processing (NLP). It outperforms previous top models such as Llama 2 13B and Llama 1 34B across various benchmarks including reasoning, mathematics, and code generation. Leveraging grouped-query attention (GQA) and sliding window attention (SWA), Mistral 7B achieves superior performance without sacrificing efficiency. Mistral 7B models are released under the Apache 2.0 license, facilitating easy deployment and fine-tuning for diverse tasks.\n"
   ]
  },
  {
   "cell_type": "code",
   "execution_count": 70,
   "metadata": {},
   "outputs": [],
   "source": [
    "mistral_code_prompt = \"[INST]You are an Travelling Agent with Lot of Country Monument Places[/INST]\\nGive 10 Places in India with numbering, Give me only places dont give more details\""
   ]
  },
  {
   "cell_type": "code",
   "execution_count": 71,
   "metadata": {},
   "outputs": [],
   "source": [
    "body = json.dumps({\n",
    "    \"prompt\":mistral_code_prompt,\n",
    "    \"max_tokens\": 250,\n",
    "    \"temperature\": 0.5 #Temperature controls randomness; higher values increase diversity, lower values boost predictability.\n",
    "})"
   ]
  },
  {
   "cell_type": "code",
   "execution_count": 80,
   "metadata": {},
   "outputs": [],
   "source": [
    "response = bedrock_runtime.invoke_model(\n",
    "    body=body,\n",
    "\tmodelId=\"mistral.mistral-7b-instruct-v0:2\",\n",
    "    # You can replace above model with meta.llama2-13b-chat-v1 also\n",
    "    accept=\"application/json\", \n",
    "    contentType=\"application/json\"\n",
    ")"
   ]
  },
  {
   "cell_type": "code",
   "execution_count": 76,
   "metadata": {},
   "outputs": [
    {
     "name": "stdout",
     "output_type": "stream",
     "text": [
      "like history, how to reach, best time to visit, etc. just the names of the monuments or places:  1. Taj Mahal, Agra, Uttar Pradesh 2. Red Fort, Delhi 3. Qutub Minar, Delhi 4. Hampi, Karnataka 5. Mahabodhi Temple, Bodhgaya, Bihar 6. Ajanta and Ellora Caves, Aurangabad, Maharashtra 7. Konark Sun Temple, Konark, Odisha 8. Khajuraho Temples, Madhya Pradesh 9. Meenakshi Amman Temple, Madurai, Tamil Nadu 10. Sanchi Stupa, Bhopal, Madhya Pradesh.  These are just a few of the many monument places in India that are worth visiting for their historical, cultural, and architectural significance.\n"
     ]
    }
   ],
   "source": [
    "response_output = json.loads(response.get('body').read())\n",
    "mistral_parse_text = response_output['outputs'][0]['text']\n",
    "mistral_parse_text = mistral_parse_text.replace('\\n', ' ')\n",
    "mistral7b_output = mistral_parse_text.strip()\n",
    "\n",
    "# Print the output with new lines wherever \"\\n\" is encountered\n",
    "print(mistral7b_output)\n"
   ]
  },
  {
   "attachments": {},
   "cell_type": "markdown",
   "metadata": {},
   "source": [
    "\n",
    "# Mixtral 8x7B\n",
    "## Reference - https://blog.dataopslabs.com/my-understanding-of-mistral-ai?showSharer=true\n",
    "\n",
    "\n",
    "### Mixtral 8x7B model, a Sparse Mixture of Experts (SMoE) language model. Mixtral shares the same architecture as Mistral 7B but differs in that each layer consists of 8 feedforward blocks (experts), with a router network selecting two experts to process each token at every layer. Despite having access to 47B parameters, Mixtral only utilizes 13B active parameters during inference. Mixtral outperforms or matches Llama 2 70B and GPT-3.5 across various benchmarks, especially excelling in mathematics, code generation, and multilingual tasks.\n"
   ]
  },
  {
   "cell_type": "code",
   "execution_count": 77,
   "metadata": {},
   "outputs": [],
   "source": [
    "mixtral_code_prompt = \"[INST]You are an Best Beach Places finder for Scuba Diving[/INST]\\nGive 10 Places in world with numbering, Give me only places dont give more details\""
   ]
  },
  {
   "cell_type": "code",
   "execution_count": 79,
   "metadata": {},
   "outputs": [],
   "source": [
    "body = json.dumps({\n",
    "    \"prompt\":mixtral_code_prompt,\n",
    "    \"max_tokens\": 250,\n",
    "    \"temperature\": 0.5 #Temperature controls randomness; higher values increase diversity, lower values boost predictability.\n",
    "})"
   ]
  },
  {
   "cell_type": "code",
   "execution_count": 81,
   "metadata": {},
   "outputs": [],
   "source": [
    "response = bedrock_runtime.invoke_model(\n",
    "    body=body,\n",
    "\tmodelId=\"mistral.mixtral-8x7b-instruct-v0:1\",\n",
    "    # You can replace above model with meta.llama2-13b-chat-v1 also\n",
    "    accept=\"application/json\", \n",
    "    contentType=\"application/json\"\n",
    ")"
   ]
  },
  {
   "cell_type": "code",
   "execution_count": 82,
   "metadata": {},
   "outputs": [
    {
     "name": "stdout",
     "output_type": "stream",
     "text": [
      "1. Great Barrier Reef, Australia 2. Palau, Micronesia 3. Blue Hole, Belize 4. Raja Ampat, Indonesia 5. Maldives, Indian Ocean 6. Cozumel, Mexico 7. Galapagos Islands, Ecuador 8. Sipadan Island, Malaysia 9. Fiji, South Pacific 10. Bonaire, Caribbean Netherlands  These are some of the top scuba diving destinations in the world. Each location offers unique underwater experiences, such as diverse marine life, coral reefs, clear waters, and exciting dive sites. I highly recommend researching each location to find the one that best suits your interests and skill level.\n"
     ]
    }
   ],
   "source": [
    "response_output = json.loads(response.get('body').read())\n",
    "mixtral_parse_text = response_output['outputs'][0]['text']\n",
    "mixtral_parse_text = mixtral_parse_text.replace('\\n', ' ')\n",
    "mixtral_output = mixtral_parse_text.strip()\n",
    "\n",
    "# Print the output with new lines wherever \"\\n\" is encountered\n",
    "print(mixtral_output)"
   ]
  }
 ],
 "metadata": {
  "kernelspec": {
   "display_name": "Python 3",
   "language": "python",
   "name": "python3"
  },
  "language_info": {
   "codemirror_mode": {
    "name": "ipython",
    "version": 3
   },
   "file_extension": ".py",
   "mimetype": "text/x-python",
   "name": "python",
   "nbconvert_exporter": "python",
   "pygments_lexer": "ipython3",
   "version": "3.9.6 (default, May  7 2023, 23:32:44) \n[Clang 14.0.3 (clang-1403.0.22.14.1)]"
  },
  "orig_nbformat": 4,
  "vscode": {
   "interpreter": {
    "hash": "31f2aee4e71d21fbe5cf8b01ff0e069b9275f58929596ceb00d14d90e3e16cd6"
   }
  }
 },
 "nbformat": 4,
 "nbformat_minor": 2
}
